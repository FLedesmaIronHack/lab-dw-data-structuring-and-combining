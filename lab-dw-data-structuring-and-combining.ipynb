{
 "cells": [
  {
   "cell_type": "markdown",
   "id": "25d7736c-ba17-4aff-b6bb-66eba20fbf4e",
   "metadata": {
    "id": "25d7736c-ba17-4aff-b6bb-66eba20fbf4e"
   },
   "source": [
    "# Lab | Data Structuring and Combining Data"
   ]
  },
  {
   "cell_type": "markdown",
   "id": "a2cdfc70-44c8-478c-81e7-2bc43fdf4986",
   "metadata": {
    "id": "a2cdfc70-44c8-478c-81e7-2bc43fdf4986"
   },
   "source": [
    "## Challenge 1: Combining & Cleaning Data\n",
    "\n",
    "In this challenge, we will be working with the customer data from an insurance company, as we did in the two previous labs. The data can be found here:\n",
    "- https://raw.githubusercontent.com/data-bootcamp-v4/data/main/file1.csv\n",
    "\n",
    "But this time, we got new data, which can be found in the following 2 CSV files located at the links below.\n",
    "\n",
    "- https://raw.githubusercontent.com/data-bootcamp-v4/data/main/file2.csv\n",
    "- https://raw.githubusercontent.com/data-bootcamp-v4/data/main/file3.csv\n",
    "\n",
    "Note that you'll need to clean and format the new data.\n",
    "\n",
    "Observation:\n",
    "- One option is to first combine the three datasets and then apply the cleaning function to the new combined dataset\n",
    "- Another option would be to read the clean file you saved in the previous lab, and just clean the two new files and concatenate the three clean datasets"
   ]
  },
  {
   "cell_type": "code",
   "execution_count": 8,
   "id": "677a86a6",
   "metadata": {},
   "outputs": [
    {
     "name": "stdout",
     "output_type": "stream",
     "text": [
      "  Customer          ST GENDER             Education Customer Lifetime Value  \\\n",
      "0  RB50392  Washington    NaN                Master                     NaN   \n",
      "1  QZ44356     Arizona      F              Bachelor              697953.59%   \n",
      "2  AI49188      Nevada      F              Bachelor             1288743.17%   \n",
      "3  WW63253  California      M              Bachelor              764586.18%   \n",
      "4  GA49547  Washington      M  High School or Below              536307.65%   \n",
      "\n",
      "    Income  Monthly Premium Auto Number of Open Complaints     Policy Type  \\\n",
      "0      0.0                1000.0                    1/0/00   Personal Auto   \n",
      "1      0.0                  94.0                    1/0/00   Personal Auto   \n",
      "2  48767.0                 108.0                    1/0/00   Personal Auto   \n",
      "3      0.0                 106.0                    1/0/00  Corporate Auto   \n",
      "4  36357.0                  68.0                    1/0/00   Personal Auto   \n",
      "\n",
      "   Vehicle Class  Total Claim Amount State Gender  \n",
      "0  Four-Door Car            2.704934   NaN    NaN  \n",
      "1  Four-Door Car         1131.464935   NaN    NaN  \n",
      "2   Two-Door Car          566.472247   NaN    NaN  \n",
      "3            SUV          529.881344   NaN    NaN  \n",
      "4  Four-Door Car           17.269323   NaN    NaN  \n"
     ]
    }
   ],
   "source": [
    "import pandas as pd\n",
    "\n",
    "file1_path = 'https://www.dropbox.com/scl/fi/g6pplumgkv78ee94h8ofb/file1.txt?rlkey=cdvctu41psgrz1yyvu9pl5nmd&st=lbdi2l3a&dl=1'\n",
    "file2_path = 'https://www.dropbox.com/scl/fi/m8bbs3xxkphp2iaq1kdjh/file2.txt?rlkey=pljzmrbxnu8krzbt1bnm0b99a&st=u6yc0e2y&dl=1'\n",
    "file3_path = 'https://www.dropbox.com/scl/fi/v51xrflqpy6qxt0uhtxsu/file3.txt?rlkey=k8i9m8dlwa0x1thoq2qevcp9o&st=uktuu4eg&dl=1'\n",
    "\n",
    "file1 = pd.read_csv(file1_path)\n",
    "file2 = pd.read_csv(file2_path)\n",
    "file3 = pd.read_csv(file3_path)\n",
    "\n",
    "combined_df = pd.concat([file1, file2, file3], ignore_index=True)\n",
    "\n",
    "print(combined_df.head())\n"
   ]
  },
  {
   "cell_type": "code",
   "execution_count": 9,
   "id": "492d06e3-92c7-4105-ac72-536db98d3244",
   "metadata": {
    "id": "492d06e3-92c7-4105-ac72-536db98d3244"
   },
   "outputs": [
    {
     "name": "stdout",
     "output_type": "stream",
     "text": [
      "  customer   gender             education  customer_lifetime_value   income  \\\n",
      "0  RB50392  Unknown                Master             1.820715e+05      0.0   \n",
      "1  QZ44356        F              Bachelor             6.979536e+05      0.0   \n",
      "2  AI49188        F              Bachelor             1.288743e+06  48767.0   \n",
      "3  WW63253        M              Bachelor             7.645862e+05      0.0   \n",
      "4  GA49547        M  High School or Below             5.363077e+05  36357.0   \n",
      "\n",
      "   monthly_premium_auto  number_of_open_complaints     policy_type  \\\n",
      "0                  1000                          0   Personal Auto   \n",
      "1                    94                          0   Personal Auto   \n",
      "2                   108                          0   Personal Auto   \n",
      "3                   106                          0  Corporate Auto   \n",
      "4                    68                          0   Personal Auto   \n",
      "\n",
      "   vehicle_class  total_claim_amount       state  \n",
      "0  Four-Door Car            2.704934  Washington  \n",
      "1  Four-Door Car         1131.464935     Arizona  \n",
      "2   Two-Door Car          566.472247      Nevada  \n",
      "3            SUV          529.881344  California  \n",
      "4  Four-Door Car           17.269323  Washington  \n"
     ]
    }
   ],
   "source": [
    "\n",
    "combined_df = combined_df.drop_duplicates()\n",
    "\n",
    "combined_df['GENDER'].fillna(combined_df['Gender'], inplace=True)\n",
    "combined_df.drop(columns=['Gender'], inplace=True)\n",
    "\n",
    "combined_df['State'].fillna(combined_df['ST'], inplace=True)\n",
    "combined_df.drop(columns=['ST'], inplace=True)\n",
    "\n",
    "\n",
    "combined_df['GENDER'].fillna('Unknown', inplace=True)\n",
    "combined_df['Education'].fillna('Unknown', inplace=True)\n",
    "combined_df['State'].fillna('Unknown', inplace=True)\n",
    "\n",
    "combined_df['Customer Lifetime Value'] = combined_df['Customer Lifetime Value'].astype(str).str.replace('%', '').astype(float)\n",
    "combined_df['Customer Lifetime Value'].fillna(combined_df['Customer Lifetime Value'].mean(), inplace=True)\n",
    "combined_df['Income'].fillna(combined_df['Income'].mean(), inplace=True)\n",
    "combined_df['Monthly Premium Auto'].fillna(combined_df['Monthly Premium Auto'].mean(), inplace=True)\n",
    "combined_df['Total Claim Amount'].fillna(combined_df['Total Claim Amount'].mean(), inplace=True)\n",
    "\n",
    "combined_df['Number of Open Complaints'] = combined_df['Number of Open Complaints'].replace({\n",
    "    '1/0/00': 0, '1/1/00': 1, '1/2/00': 2, '1/3/00': 3, '1/4/00': 4, '1/5/00': 5\n",
    "})\n",
    "combined_df['Number of Open Complaints'] = combined_df['Number of Open Complaints'].fillna(0).astype(int)\n",
    "\n",
    "\n",
    "combined_df['Monthly Premium Auto'] = combined_df['Monthly Premium Auto'].astype(int)\n",
    "\n",
    "\n",
    "combined_df.columns = [col.strip().replace(' ', '_').lower() for col in combined_df.columns]\n",
    "\n",
    "\n",
    "print(combined_df.head())\n",
    "\n"
   ]
  },
  {
   "cell_type": "markdown",
   "id": "31b8a9e7-7db9-4604-991b-ef6771603e57",
   "metadata": {
    "id": "31b8a9e7-7db9-4604-991b-ef6771603e57"
   },
   "source": [
    "# Challenge 2: Structuring Data"
   ]
  },
  {
   "cell_type": "markdown",
   "id": "a877fd6d-7a0c-46d2-9657-f25036e4ca4b",
   "metadata": {
    "id": "a877fd6d-7a0c-46d2-9657-f25036e4ca4b"
   },
   "source": [
    "In this challenge, we will continue to work with customer data from an insurance company, but we will use a dataset with more columns, called marketing_customer_analysis.csv, which can be found at the following link:\n",
    "\n",
    "https://raw.githubusercontent.com/data-bootcamp-v4/data/main/marketing_customer_analysis_clean.csv\n",
    "\n",
    "This dataset contains information such as customer demographics, policy details, vehicle information, and the customer's response to the last marketing campaign. Our goal is to explore and analyze this data by performing data cleaning, formatting, and structuring."
   ]
  },
  {
   "cell_type": "code",
   "execution_count": 11,
   "id": "aa10d9b0-1c27-4d3f-a8e4-db6ab73bfd26",
   "metadata": {
    "collapsed": true,
    "id": "aa10d9b0-1c27-4d3f-a8e4-db6ab73bfd26"
   },
   "outputs": [
    {
     "name": "stdout",
     "output_type": "stream",
     "text": [
      "       unnamed:_0 customer       state  customer_lifetime_value response  \\\n",
      "0               0  DK49336     Arizona              4809.216960       No   \n",
      "1               1  KX64629  California              2228.525238       No   \n",
      "2               2  LZ68649  Washington             14947.917300       No   \n",
      "3               3  XL78013      Oregon             22332.439460      Yes   \n",
      "4               4  QA50777      Oregon              9025.067525       No   \n",
      "...           ...      ...         ...                      ...      ...   \n",
      "10905       10905  FE99816      Nevada             15563.369440       No   \n",
      "10906       10906  KX53892      Oregon              5259.444853       No   \n",
      "10907       10907  TL39050     Arizona             23893.304100       No   \n",
      "10908       10908  WA60547  California             11971.977650       No   \n",
      "10909       10909  IV32877  California              6857.519928       No   \n",
      "\n",
      "       coverage education effective_to_date employmentstatus gender  ...  \\\n",
      "0         Basic   College        2011-02-18         Employed      M  ...   \n",
      "1         Basic   College        2011-01-18       Unemployed      F  ...   \n",
      "2         Basic  Bachelor        2011-02-10         Employed      M  ...   \n",
      "3      Extended   College        2011-01-11         Employed      M  ...   \n",
      "4       Premium  Bachelor        2011-01-17    Medical Leave      F  ...   \n",
      "...         ...       ...               ...              ...    ...  ...   \n",
      "10905   Premium  Bachelor        2011-01-19       Unemployed      F  ...   \n",
      "10906     Basic   College        2011-01-06         Employed      F  ...   \n",
      "10907  Extended  Bachelor        2011-02-06         Employed      F  ...   \n",
      "10908   Premium   College        2011-02-13         Employed      F  ...   \n",
      "10909     Basic  Bachelor        2011-01-08       Unemployed      M  ...   \n",
      "\n",
      "       number_of_policies     policy_type        policy  renew_offer_type  \\\n",
      "0                       9  Corporate Auto  Corporate L3            Offer3   \n",
      "1                       1   Personal Auto   Personal L3            Offer4   \n",
      "2                       2   Personal Auto   Personal L3            Offer3   \n",
      "3                       2  Corporate Auto  Corporate L3            Offer2   \n",
      "4                       7   Personal Auto   Personal L2            Offer1   \n",
      "...                   ...             ...           ...               ...   \n",
      "10905                   7   Personal Auto   Personal L1            Offer3   \n",
      "10906                   6   Personal Auto   Personal L3            Offer2   \n",
      "10907                   2  Corporate Auto  Corporate L3            Offer1   \n",
      "10908                   6   Personal Auto   Personal L1            Offer1   \n",
      "10909                   3   Personal Auto   Personal L1            Offer4   \n",
      "\n",
      "       sales_channel  total_claim_amount  vehicle_class  vehicle_size  \\\n",
      "0              Agent          292.800000  Four-Door Car       Medsize   \n",
      "1        Call Center          744.924331  Four-Door Car       Medsize   \n",
      "2        Call Center          480.000000            SUV       Medsize   \n",
      "3             Branch          484.013411  Four-Door Car       Medsize   \n",
      "4             Branch          707.925645  Four-Door Car       Medsize   \n",
      "...              ...                 ...            ...           ...   \n",
      "10905            Web         1214.400000     Luxury Car       Medsize   \n",
      "10906         Branch          273.018929  Four-Door Car       Medsize   \n",
      "10907            Web          381.306996     Luxury SUV       Medsize   \n",
      "10908         Branch          618.288849            SUV       Medsize   \n",
      "10909            Web         1021.719397            SUV       Medsize   \n",
      "\n",
      "      vehicle_type month  \n",
      "0                A     2  \n",
      "1                A     1  \n",
      "2                A     2  \n",
      "3                A     1  \n",
      "4                A     1  \n",
      "...            ...   ...  \n",
      "10905            A     1  \n",
      "10906            A     1  \n",
      "10907            A     2  \n",
      "10908            A     2  \n",
      "10909            A     1  \n",
      "\n",
      "[10910 rows x 27 columns]\n"
     ]
    }
   ],
   "source": [
    "import pandas as pd\n",
    "\n",
    "file1_path = 'https://www.dropbox.com/scl/fi/3i0uy8qrkt560bri4br21/file2.txt?rlkey=murrnoo0c69vulnjbslo3bpmd&st=wvy39fb2&dl=1'\n",
    "\n",
    "df = pd.read_csv(file1_path)\n",
    "\n",
    "print(df)\n"
   ]
  },
  {
   "cell_type": "markdown",
   "id": "df35fd0d-513e-4e77-867e-429da10a9cc7",
   "metadata": {
    "id": "df35fd0d-513e-4e77-867e-429da10a9cc7"
   },
   "source": [
    "1. You work at the marketing department and you want to know which sales channel brought the most sales in terms of total revenue. Using pivot, create a summary table showing the total revenue for each sales channel (branch, call center, web, and mail).\n",
    "Round the total revenue to 2 decimal points.  Analyze the resulting table to draw insights."
   ]
  },
  {
   "cell_type": "code",
   "execution_count": 12,
   "id": "604f9f5f",
   "metadata": {},
   "outputs": [
    {
     "name": "stdout",
     "output_type": "stream",
     "text": [
      "               total_claim_amount\n",
      "sales_channel                    \n",
      "Agent                  1810226.82\n",
      "Branch                 1301204.00\n",
      "Call Center             926600.82\n",
      "Web                     706600.04\n"
     ]
    }
   ],
   "source": [
    "df.columns = [col.strip().replace(' ', '_').lower() for col in df.columns]\n",
    "\n",
    "pivot_total_revenue = df.pivot_table(\n",
    "    values='total_claim_amount',\n",
    "    index='sales_channel',\n",
    "    aggfunc='sum'\n",
    ").round(2)\n",
    "\n",
    "print(pivot_total_revenue)"
   ]
  },
  {
   "cell_type": "markdown",
   "id": "640993b2-a291-436c-a34d-a551144f8196",
   "metadata": {
    "id": "640993b2-a291-436c-a34d-a551144f8196"
   },
   "source": [
    "2. Create a pivot table that shows the average customer lifetime value per gender and education level. Analyze the resulting table to draw insights."
   ]
  },
  {
   "cell_type": "code",
   "execution_count": 13,
   "id": "489c2970",
   "metadata": {},
   "outputs": [
    {
     "name": "stdout",
     "output_type": "stream",
     "text": [
      "education  Bachelor  College   Doctor  High School or Below   Master\n",
      "gender                                                              \n",
      "F           7874.27  7748.82  7328.51               8675.22  8157.05\n",
      "M           7703.60  8052.46  7415.33               8149.69  8168.83\n"
     ]
    }
   ],
   "source": [
    "pivot_avg_clv = df.pivot_table(\n",
    "    values='customer_lifetime_value',\n",
    "    index='gender',\n",
    "    columns='education',\n",
    "    aggfunc='mean'\n",
    ").round(2)\n",
    "\n",
    "print(pivot_avg_clv)"
   ]
  },
  {
   "cell_type": "markdown",
   "id": "32c7f2e5-3d90-43e5-be33-9781b6069198",
   "metadata": {
    "id": "32c7f2e5-3d90-43e5-be33-9781b6069198"
   },
   "source": [
    "## Bonus\n",
    "\n",
    "You work at the customer service department and you want to know which months had the highest number of complaints by policy type category. Create a summary table showing the number of complaints by policy type and month.\n",
    "Show it in a long format table."
   ]
  },
  {
   "cell_type": "markdown",
   "id": "e3d09a8f-953c-448a-a5f8-2e5a8cca7291",
   "metadata": {
    "id": "e3d09a8f-953c-448a-a5f8-2e5a8cca7291"
   },
   "source": [
    "*In data analysis, a long format table is a way of structuring data in which each observation or measurement is stored in a separate row of the table. The key characteristic of a long format table is that each column represents a single variable, and each row represents a single observation of that variable.*\n",
    "\n",
    "*More information about long and wide format tables here: https://www.statology.org/long-vs-wide-data/*"
   ]
  },
  {
   "cell_type": "code",
   "execution_count": null,
   "id": "3a069e0b-b400-470e-904d-d17582191be4",
   "metadata": {
    "id": "3a069e0b-b400-470e-904d-d17582191be4"
   },
   "outputs": [],
   "source": [
    "# Your code goes here"
   ]
  }
 ],
 "metadata": {
  "colab": {
   "provenance": []
  },
  "kernelspec": {
   "display_name": "Python 3 (ipykernel)",
   "language": "python",
   "name": "python3"
  },
  "language_info": {
   "codemirror_mode": {
    "name": "ipython",
    "version": 3
   },
   "file_extension": ".py",
   "mimetype": "text/x-python",
   "name": "python",
   "nbconvert_exporter": "python",
   "pygments_lexer": "ipython3",
   "version": "3.11.7"
  }
 },
 "nbformat": 4,
 "nbformat_minor": 5
}
